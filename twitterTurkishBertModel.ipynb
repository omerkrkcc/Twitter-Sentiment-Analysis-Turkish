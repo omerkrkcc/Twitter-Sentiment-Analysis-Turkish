{
 "cells": [
  {
   "cell_type": "code",
   "execution_count": 23,
   "id": "0316b63c",
   "metadata": {},
   "outputs": [],
   "source": [
    "#!pip install SpeechRecognition\n",
    "#!pip install simpletransformers\n",
    "import pandas as pd\n",
    "from tkinter import *\n",
    "from tkinter import messagebox\n",
    "from PIL import Image,ImageTk\n",
    "import speech_recognition as sr\n",
    "from simpletransformers.classification import ClassificationModel\n",
    "from sklearn.metrics import accuracy_score\n",
    "import warnings\n",
    "warnings.filterwarnings(\"ignore\", category=DeprecationWarning)"
   ]
  },
  {
   "cell_type": "code",
   "execution_count": 24,
   "id": "d9b72367",
   "metadata": {},
   "outputs": [],
   "source": [
    "from simpletransformers.classification import ClassificationModel\n",
    "dfBert = pd.read_csv(r'C:\\Users\\omerr\\Desktop\\dataset\\twitter_dataset\\BertDataFrame.csv', encoding='utf-8')"
   ]
  },
  {
   "cell_type": "code",
   "execution_count": 25,
   "id": "51d11fda",
   "metadata": {},
   "outputs": [
    {
     "data": {
      "text/html": [
       "<div>\n",
       "<style scoped>\n",
       "    .dataframe tbody tr th:only-of-type {\n",
       "        vertical-align: middle;\n",
       "    }\n",
       "\n",
       "    .dataframe tbody tr th {\n",
       "        vertical-align: top;\n",
       "    }\n",
       "\n",
       "    .dataframe thead th {\n",
       "        text-align: right;\n",
       "    }\n",
       "</style>\n",
       "<table border=\"1\" class=\"dataframe\">\n",
       "  <thead>\n",
       "    <tr style=\"text-align: right;\">\n",
       "      <th></th>\n",
       "      <th>text</th>\n",
       "      <th>labels</th>\n",
       "    </tr>\n",
       "  </thead>\n",
       "  <tbody>\n",
       "    <tr>\n",
       "      <th>0</th>\n",
       "      <td>allahım çıldıracağım yemin ederim çıldıracağım...</td>\n",
       "      <td>0</td>\n",
       "    </tr>\n",
       "    <tr>\n",
       "      <th>1</th>\n",
       "      <td>site  zaman çalıştı  ürün stokları bitti diyor...</td>\n",
       "      <td>0</td>\n",
       "    </tr>\n",
       "    <tr>\n",
       "      <th>2</th>\n",
       "      <td>sebebi neydi   bağıracağım   kaldı</td>\n",
       "      <td>0</td>\n",
       "    </tr>\n",
       "    <tr>\n",
       "      <th>3</th>\n",
       "      <td>black friday  amk  yıl çıkardınız  boku  mal m...</td>\n",
       "      <td>0</td>\n",
       "    </tr>\n",
       "    <tr>\n",
       "      <th>4</th>\n",
       "      <td>cevaplar vereceksen  yazıyorsun gerizekalı</td>\n",
       "      <td>0</td>\n",
       "    </tr>\n",
       "    <tr>\n",
       "      <th>...</th>\n",
       "      <td>...</td>\n",
       "      <td>...</td>\n",
       "    </tr>\n",
       "    <tr>\n",
       "      <th>15105</th>\n",
       "      <td>gidip  aynaya bakarsanız   büyük fahişeyi gör...</td>\n",
       "      <td>0</td>\n",
       "    </tr>\n",
       "    <tr>\n",
       "      <th>15106</th>\n",
       "      <td>fahişe senin beynin</td>\n",
       "      <td>0</td>\n",
       "    </tr>\n",
       "    <tr>\n",
       "      <th>15107</th>\n",
       "      <td>sorsak  numaralı müslümandır sıfatsız herif</td>\n",
       "      <td>0</td>\n",
       "    </tr>\n",
       "    <tr>\n",
       "      <th>15108</th>\n",
       "      <td>surata bak lanetlenmiş öç</td>\n",
       "      <td>0</td>\n",
       "    </tr>\n",
       "    <tr>\n",
       "      <th>15109</th>\n",
       "      <td>allah ’ in din tüccarları size  insana iftira ...</td>\n",
       "      <td>0</td>\n",
       "    </tr>\n",
       "  </tbody>\n",
       "</table>\n",
       "<p>15110 rows × 2 columns</p>\n",
       "</div>"
      ],
      "text/plain": [
       "                                                    text  labels\n",
       "0      allahım çıldıracağım yemin ederim çıldıracağım...       0\n",
       "1      site  zaman çalıştı  ürün stokları bitti diyor...       0\n",
       "2                     sebebi neydi   bağıracağım   kaldı       0\n",
       "3      black friday  amk  yıl çıkardınız  boku  mal m...       0\n",
       "4             cevaplar vereceksen  yazıyorsun gerizekalı       0\n",
       "...                                                  ...     ...\n",
       "15105   gidip  aynaya bakarsanız   büyük fahişeyi gör...       0\n",
       "15106                                fahişe senin beynin       0\n",
       "15107        sorsak  numaralı müslümandır sıfatsız herif       0\n",
       "15108                          surata bak lanetlenmiş öç       0\n",
       "15109  allah ’ in din tüccarları size  insana iftira ...       0\n",
       "\n",
       "[15110 rows x 2 columns]"
      ]
     },
     "execution_count": 25,
     "metadata": {},
     "output_type": "execute_result"
    }
   ],
   "source": [
    "dfBert.columns = ['text', 'labels']\n",
    "dfBert"
   ]
  },
  {
   "cell_type": "code",
   "execution_count": 26,
   "id": "4b6e531a",
   "metadata": {},
   "outputs": [],
   "source": [
    "from sklearn.model_selection import train_test_split\n",
    "\n",
    "train, test = train_test_split(dfBert, test_size=0.2, random_state=42)"
   ]
  },
  {
   "cell_type": "code",
   "execution_count": 27,
   "id": "3c5b5b88",
   "metadata": {},
   "outputs": [],
   "source": [
    "train=train[[\"text\",\"labels\"]]\n",
    "test=test[[\"text\",\"labels\"]]"
   ]
  },
  {
   "cell_type": "code",
   "execution_count": 28,
   "id": "bf147659",
   "metadata": {},
   "outputs": [],
   "source": [
    "train[\"text\"]=train[\"text\"].apply(lambda r: str(r))\n",
    "train['labels']=train['labels'].astype(int)"
   ]
  },
  {
   "cell_type": "code",
   "execution_count": 29,
   "id": "62ce4d35",
   "metadata": {},
   "outputs": [
    {
     "data": {
      "text/plain": [
       "((12088, 2), (3022, 2))"
      ]
     },
     "execution_count": 29,
     "metadata": {},
     "output_type": "execute_result"
    }
   ],
   "source": [
    "train.shape, test.shape"
   ]
  },
  {
   "cell_type": "code",
   "execution_count": 30,
   "id": "b1db4955",
   "metadata": {},
   "outputs": [],
   "source": [
    "model = ClassificationModel('bert', r'C:\\Users\\omerr\\Desktop\\dataset\\checkpoint-epoch-3', num_labels=2, use_cuda=False)  "
   ]
  },
  {
   "cell_type": "code",
   "execution_count": 31,
   "id": "ac1abb7d",
   "metadata": {},
   "outputs": [],
   "source": [
    "def metinDuyguAnalizi():\n",
    "    result = textExample.get(\"1.0\",\"end-1c\") \n",
    "    cumleTahmini = model.predict([result])\n",
    "    if cumleTahmini[0][0]==0:\n",
    "        messagebox.showinfo(\"Negatif\")\n",
    "    else:\n",
    "        messagebox.showinfo(\"Pozitif\")"
   ]
  },
  {
   "cell_type": "code",
   "execution_count": 32,
   "id": "30f6a3b1",
   "metadata": {},
   "outputs": [],
   "source": [
    "def sesDuyguAnalizi():\n",
    "    recognizer = sr.Recognizer()\n",
    "    path = r'C:\\Users\\omerr\\Desktop\\dataset\\ses\\solsagkavgası.wav'\n",
    "    with sr.AudioFile(path) as source:\n",
    "        recorded_audio = recognizer.listen(source)\n",
    "        print(\".wav uzantılı ses dosyasının yüklenmesi tamamlandı.\")\n",
    "\n",
    "    try:\n",
    "        print(\"Metni .wav uzantılı ses dosyasından metine çevirme tamamlandı.\")\n",
    "        text = recognizer.recognize_google(\n",
    "            recorded_audio,\n",
    "            language='tr-tr'\n",
    "        )\n",
    "        sonuc = model.predict([text])\n",
    "        if sonuc[0][0] == 0:\n",
    "            messagebox.showinfo(\"Negatif\")\n",
    "        else:\n",
    "            messagebox.showinfo(\"Pozitif\")\n",
    "\n",
    "    except Exception as ex:\n",
    "        print(ex)"
   ]
  },
  {
   "cell_type": "code",
   "execution_count": 33,
   "id": "098c6b9e",
   "metadata": {
    "scrolled": true
   },
   "outputs": [
    {
     "data": {
      "application/vnd.jupyter.widget-view+json": {
       "model_id": "06ec3f7c2fb74e47a13090cbed6e3daf",
       "version_major": 2,
       "version_minor": 0
      },
      "text/plain": [
       "  0%|          | 0/1 [00:00<?, ?it/s]"
      ]
     },
     "metadata": {},
     "output_type": "display_data"
    },
    {
     "data": {
      "application/vnd.jupyter.widget-view+json": {
       "model_id": "cebf9c335da5424f9d55beb8a1bcd0d9",
       "version_major": 2,
       "version_minor": 0
      },
      "text/plain": [
       "  0%|          | 0/1 [00:00<?, ?it/s]"
      ]
     },
     "metadata": {},
     "output_type": "display_data"
    },
    {
     "data": {
      "application/vnd.jupyter.widget-view+json": {
       "model_id": "5d07bf6dd1c445048912a6caa49d2918",
       "version_major": 2,
       "version_minor": 0
      },
      "text/plain": [
       "  0%|          | 0/1 [00:00<?, ?it/s]"
      ]
     },
     "metadata": {},
     "output_type": "display_data"
    },
    {
     "data": {
      "application/vnd.jupyter.widget-view+json": {
       "model_id": "4ef2c920df9a49468a59807106fac035",
       "version_major": 2,
       "version_minor": 0
      },
      "text/plain": [
       "  0%|          | 0/1 [00:00<?, ?it/s]"
      ]
     },
     "metadata": {},
     "output_type": "display_data"
    },
    {
     "data": {
      "application/vnd.jupyter.widget-view+json": {
       "model_id": "42176326224f43719708a5d806f95d18",
       "version_major": 2,
       "version_minor": 0
      },
      "text/plain": [
       "  0%|          | 0/1 [00:00<?, ?it/s]"
      ]
     },
     "metadata": {},
     "output_type": "display_data"
    },
    {
     "data": {
      "application/vnd.jupyter.widget-view+json": {
       "model_id": "3e7556bc11e54529a279b25d72373380",
       "version_major": 2,
       "version_minor": 0
      },
      "text/plain": [
       "  0%|          | 0/1 [00:00<?, ?it/s]"
      ]
     },
     "metadata": {},
     "output_type": "display_data"
    },
    {
     "name": "stdout",
     "output_type": "stream",
     "text": [
      ".wav uzantılı ses dosyasının yüklenmesi tamamlandı.\n",
      "Metni .wav uzantılı ses dosyasından metine çevirme tamamlandı.\n"
     ]
    },
    {
     "data": {
      "application/vnd.jupyter.widget-view+json": {
       "model_id": "45b91acb962a43a7bb2665e41b82d5bf",
       "version_major": 2,
       "version_minor": 0
      },
      "text/plain": [
       "  0%|          | 0/1 [00:00<?, ?it/s]"
      ]
     },
     "metadata": {},
     "output_type": "display_data"
    },
    {
     "data": {
      "application/vnd.jupyter.widget-view+json": {
       "model_id": "84a0ea6c1c204bcdb43f1edd18825564",
       "version_major": 2,
       "version_minor": 0
      },
      "text/plain": [
       "  0%|          | 0/1 [00:00<?, ?it/s]"
      ]
     },
     "metadata": {},
     "output_type": "display_data"
    }
   ],
   "source": [
    "from tkinter import Tk, Label, Text, Button, ttk, font\n",
    "\n",
    "root = Tk()\n",
    "root.geometry(\"500x600\")\n",
    "root.resizable(False, False)\n",
    "root.title(\"Metinden veya Sesten Konu Sınıflandırma Programı\")\n",
    "root.configure(background=\"#2E3B4E\")\n",
    "\n",
    "header_label_metin = Label(root, text=\"Türkçe Metin Sınıflandırma\", font=(\"Helvetica\", 16, \"bold\"),\n",
    "                            bg=\"#4A90E2\", fg=\"white\", width=30, anchor=\"center\", pady=10)\n",
    "header_label_metin.grid(row=0, column=0, pady=(20, 0))\n",
    "\n",
    "\n",
    "textExample = Text(root, height=10, wrap=\"word\", bg=\"#EAEAEA\", bd=3, relief=\"solid\", font=(\"Helvetica\", 10))\n",
    "textExample.grid(row=1, column=0, padx=10, pady=10, sticky=\"nsew\")\n",
    "\n",
    "btn_guess = Button(root, text=\"Duygu Analizi Yap\", width=25, command=metinDuyguAnalizi, anchor=\"center\",\n",
    "                   bg=\"#4A90E2\", fg=\"white\", pady=10, font=(\"Helvetica\", 12, \"bold\"))\n",
    "btn_guess.grid(row=2, column=0, pady=(20, 0))\n",
    "\n",
    "header_label_ses = Label(root, text=\"Türkçe Ses Sınıflandırma\", font=(\"Helvetica\", 16, \"bold\"),\n",
    "                          bg=\"#4A90E2\", fg=\"white\", width=30, anchor=\"center\", pady=10)\n",
    "header_label_ses.grid(row=3, column=0, pady=(20, 0))\n",
    "\n",
    "btn_rec10s = Button(root, text='Ses Kaydına Göre Duygu Analizi Yap', width=30, command=sesDuyguAnalizi, anchor=\"center\",\n",
    "                     bg=\"#4A90E2\", fg=\"white\", pady=10, font=(\"Helvetica\", 12, \"bold\"))\n",
    "btn_rec10s.grid(row=4, column=0, pady=(20, 0))\n",
    "\n",
    "root.grid_columnconfigure(0, weight=1)\n",
    "root.resizable(0, 0)\n",
    "root.mainloop()\n"
   ]
  },
  {
   "cell_type": "raw",
   "id": "ef67c7c9",
   "metadata": {},
   "source": []
  },
  {
   "cell_type": "code",
   "execution_count": null,
   "id": "c9e22f1c",
   "metadata": {},
   "outputs": [],
   "source": []
  }
 ],
 "metadata": {
  "kernelspec": {
   "display_name": "Python 3 (ipykernel)",
   "language": "python",
   "name": "python3"
  },
  "language_info": {
   "codemirror_mode": {
    "name": "ipython",
    "version": 3
   },
   "file_extension": ".py",
   "mimetype": "text/x-python",
   "name": "python",
   "nbconvert_exporter": "python",
   "pygments_lexer": "ipython3",
   "version": "3.11.5"
  }
 },
 "nbformat": 4,
 "nbformat_minor": 5
}
